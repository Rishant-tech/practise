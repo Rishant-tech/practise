{
 "cells": [
  {
   "cell_type": "code",
   "execution_count": null,
   "id": "3a83a018",
   "metadata": {},
   "outputs": [],
   "source": [
    "'''Problem\n",
    "Arpasland has surrounded by attackers. A truck enters the city. The driver claims the load is food and medicine from Iranians. Ali is one of the soldiers in Arpasland. He doubts about the truck, maybe it's from the siege. He knows that a tag is valid if the sum of every two consecutive digits of it is even and its letter is not a vowel. Determine if the tag of the truck is valid or not.\n",
    "\n",
    "We consider the letters \"A\",\"E\",\"I\",\"O\",\"U\",\"Y\" to be vowels for this problem.\n",
    "\n",
    "Input Format\n",
    "\n",
    "The first line contains a string of length 9. The format is \"DDXDDD-DD\", where D stands for a digit (non zero) and X is an uppercase english letter.\n",
    "\n",
    "Output Format\n",
    "\n",
    "Print \"valid\" (without quotes) if the tag is valid, print \"invalid\" otherwise (without quotes)\n",
    "\n",
    "Sample Input\n",
    "12X345-67\n",
    "Sample Output\n",
    "invalid'''"
   ]
  },
  {
   "cell_type": "code",
   "execution_count": 35,
   "id": "083bdcb5",
   "metadata": {},
   "outputs": [
    {
     "name": "stdout",
     "output_type": "stream",
     "text": [
      "135\n",
      "valid\n"
     ]
    }
   ],
   "source": [
    "data=list(input())\n",
    "a=['A','E','I','O','U','Y']\n",
    "flag=0\n",
    "for i in a:\n",
    "    if i in data:\n",
    "        flag=1\n",
    "        break\n",
    "    else:\n",
    "        for i in range(len(data) - 1):\n",
    "            value = data[i:i+2]\n",
    "            try:\n",
    "                x,y=int(value[0]),int(value[1])\n",
    "                z=x+y\n",
    "                if z%2!=0:\n",
    "                    flag=1\n",
    "                    break\n",
    "                else:\n",
    "                    flag=0\n",
    "            except:\n",
    "                pass\n",
    "if flag==1:\n",
    "    print('invalid')\n",
    "else:\n",
    "    print('valid')"
   ]
  }
 ],
 "metadata": {
  "kernelspec": {
   "display_name": "Python 3 (ipykernel)",
   "language": "python",
   "name": "python3"
  },
  "language_info": {
   "codemirror_mode": {
    "name": "ipython",
    "version": 3
   },
   "file_extension": ".py",
   "mimetype": "text/x-python",
   "name": "python",
   "nbconvert_exporter": "python",
   "pygments_lexer": "ipython3",
   "version": "3.9.12"
  }
 },
 "nbformat": 4,
 "nbformat_minor": 5
}
