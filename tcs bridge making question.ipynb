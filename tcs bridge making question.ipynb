{
 "cells": [
  {
   "cell_type": "code",
   "execution_count": 1,
   "id": "d567f85f",
   "metadata": {},
   "outputs": [
    {
     "name": "stdout",
     "output_type": "stream",
     "text": [
      "3\n",
      "3\n"
     ]
    }
   ],
   "source": [
    "N1=int(input())\n",
    "N2=int(input())"
   ]
  },
  {
   "cell_type": "code",
   "execution_count": 2,
   "id": "4481d6a2",
   "metadata": {},
   "outputs": [
    {
     "name": "stdout",
     "output_type": "stream",
     "text": [
      "5\n",
      "4\n",
      "3\n",
      "6\n",
      "5\n",
      "2\n"
     ]
    }
   ],
   "source": [
    "a=[]\n",
    "while N1>0:\n",
    "    a.append(int(input()))\n",
    "    N1=N1-1\n",
    "b=[]\n",
    "while N2>0:\n",
    "    b.append(int(input()))\n",
    "    N2=N2-1\n",
    "\n",
    "    \n",
    "    "
   ]
  },
  {
   "cell_type": "code",
   "execution_count": 3,
   "id": "b26a6afa",
   "metadata": {},
   "outputs": [],
   "source": [
    "arr=a+b\n",
    "\n",
    "arr.sort()\n",
    "\n",
    "arr=set(arr)\n",
    "arr=list(arr)\n",
    "\n"
   ]
  },
  {
   "cell_type": "code",
   "execution_count": 6,
   "id": "a3866aa8",
   "metadata": {},
   "outputs": [
    {
     "name": "stdout",
     "output_type": "stream",
     "text": [
      "0:.2f\n"
     ]
    }
   ],
   "source": [
    "l=len(arr)\n",
    "if l%2==0:\n",
    "    i=int(l/2)\n",
    "    temp=arr[i]+arr[i-1]\n",
    "    x='0:.2f'.format(float(temp))\n",
    "    print(x)\n",
    "else:\n",
    "    i=int(l/2)\n",
    "    temp=arr[i]\n",
    "    x='0:.2f'.format(float(temp))\n",
    "    print(x)\n",
    "    "
   ]
  },
  {
   "cell_type": "code",
   "execution_count": null,
   "id": "717e5cb0",
   "metadata": {},
   "outputs": [],
   "source": []
  }
 ],
 "metadata": {
  "kernelspec": {
   "display_name": "Python 3 (ipykernel)",
   "language": "python",
   "name": "python3"
  },
  "language_info": {
   "codemirror_mode": {
    "name": "ipython",
    "version": 3
   },
   "file_extension": ".py",
   "mimetype": "text/x-python",
   "name": "python",
   "nbconvert_exporter": "python",
   "pygments_lexer": "ipython3",
   "version": "3.9.12"
  }
 },
 "nbformat": 4,
 "nbformat_minor": 5
}
